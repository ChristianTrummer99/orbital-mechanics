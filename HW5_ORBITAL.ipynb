{
  "nbformat": 4,
  "nbformat_minor": 0,
  "metadata": {
    "colab": {
      "name": "HW5_ORBITAL",
      "provenance": [],
      "collapsed_sections": [],
      "include_colab_link": true
    },
    "kernelspec": {
      "name": "python3",
      "display_name": "Python 3"
    }
  },
  "cells": [
    {
      "cell_type": "markdown",
      "metadata": {
        "id": "view-in-github",
        "colab_type": "text"
      },
      "source": [
        "<a href=\"https://colab.research.google.com/github/ChristianTrummer99/orbital-mechanics/blob/master/HW5_ORBITAL.ipynb\" target=\"_parent\"><img src=\"https://colab.research.google.com/assets/colab-badge.svg\" alt=\"Open In Colab\"/></a>"
      ]
    },
    {
      "cell_type": "code",
      "metadata": {
        "id": "9zzKNYLJtC4y",
        "colab_type": "code",
        "colab": {}
      },
      "source": [
        "import math as m, numpy as np"
      ],
      "execution_count": 0,
      "outputs": []
    },
    {
      "cell_type": "code",
      "metadata": {
        "id": "326KMEBbtShm",
        "colab_type": "code",
        "outputId": "ab5ec010-9520-477b-efed-a7e29d9072b1",
        "colab": {
          "base_uri": "https://localhost:8080/",
          "height": 67
        }
      },
      "source": [
        "# Problem 1\n",
        "\n",
        "r = 7000 \n",
        "R = 9000\n",
        "mu = 398600\n",
        "\n",
        "v1a = m.sqrt(mu/r)\n",
        "v1b = m.sqrt(2*mu/r - 2*mu/(r + R))\n",
        "v2b = m.sqrt(2*mu/R - 2*mu/(r + R))\n",
        "v2c = m.sqrt(mu/R)\n",
        "\n",
        "print(\" a) initial impulse = \",v1b - v1a,\"km/s\\n\",\n",
        "      \"b) terminal impulse =\", v2c - v2b,'km/s\\n',\n",
        "      'c) total velocity change = ',(v1b - v1a)+(v2c - v2b),'km/s')\n"
      ],
      "execution_count": 0,
      "outputs": [
        {
          "output_type": "stream",
          "text": [
            " a) initial impulse =  0.45774463516033403 km/s\n",
            " b) terminal impulse = 0.4298168622866516 km/s\n",
            " c) total velocity change =  0.8875614974469856 km/s\n"
          ],
          "name": "stdout"
        }
      ]
    },
    {
      "cell_type": "code",
      "metadata": {
        "id": "mYl1BS0QxJkS",
        "colab_type": "code",
        "outputId": "8cec157c-83a9-4a78-86e7-c8ef2a398c7f",
        "colab": {
          "base_uri": "https://localhost:8080/",
          "height": 202
        }
      },
      "source": [
        "# Problem 2 \n",
        "\n",
        "#a) \n",
        "Ra = 7000\n",
        "Rb = 14000 \n",
        "va1 = 12 \n",
        "va2 = m.sqrt(2*mu/Ra - 2*mu/(Ra + Rb))\n",
        "print('a) delta V at A = ', va2 - va1, 'km/s')\n",
        "\n",
        "#b)\n",
        "nu_sc = m.radians(180)\n",
        "e = (Rb - Ra)/(Rb + Ra)\n",
        "a2 = (Ra + Rb)/2\n",
        "E = 2*m.atan(m.sqrt((1-e)/(1+e))*m.tan(nu_sc/2))\n",
        "t1 = m.sqrt(a2**3/mu)*(E - e*m.sin(E))\n",
        "print('b) total time from point A to B = ',t,'seconds')\n",
        "\n",
        "#c) \n",
        "nu_ss = t1 * m.sqrt(mu/Rb**3)\n",
        "P_4 = 2*m.pi*m.sqrt(Rb**3/mu)\n",
        "print('c) nu of Space Station at t1 =',m.degrees(nu_ss,), 'degrees')\n",
        "print('   time of Space Station return to B = ',P_4, 's\\n')\n",
        "\n",
        "#d)\n",
        "P_4 = 2*m.pi*m.sqrt(Rb**3/mu)\n",
        "t_ss_remaining_before_B = P_4 - t1\n",
        "P_3 = t_ss_remaining_before_B\n",
        "a3 = (((P_3/(2*m.pi))**2)*mu)**(1/3)\n",
        "\n",
        "print('d) a3 =',a3,'km')\n",
        "Rc = 2*a3 - Rb\n",
        "print('   Rc =', Rc,'km\\n')\n",
        "\n",
        "#e) \n",
        "vb2 = m.sqrt(mu*(2/Rb - 1/a2))\n",
        "vb3 = m.sqrt(mu*(2/Rb - 1/a3))\n",
        "print('e) delta V for orbit 2-3 = ', vb3 - vb2, 'km/s')\n",
        "\n",
        "#f)\n",
        "vb4 = m.sqrt(mu/Rb)\n",
        "print('f) delta V for orbit 3-4 = ', vb4 - vb3, 'km/s')\n",
        "\n",
        "#g \n",
        "v_total = abs(va2 - va1)+(vb3 - vb2)+ (vb4 - vb3)\n",
        "print('g) delta V total =', v_total, 'km/s')"
      ],
      "execution_count": 0,
      "outputs": [
        {
          "output_type": "stream",
          "text": [
            "a) delta V at A =  -3.2865730321641227 km/s\n",
            "b) total time from point A to B =  5353.837361908733 seconds\n",
            "c) nu of Space Station at t1 = 116.91342951089922 degrees\n",
            "   time of Space Station return to B =  16485.543691175906 s\n",
            "\n",
            "d) a3 = 10775.406915076715 km\n",
            "   Rc = 7550.813830153431 km\n",
            "\n",
            "e) delta V for orbit 2-3 =  0.10996477620697576 km/s\n",
            "f) delta V for orbit 3-4 =  0.8691842354261627 km/s\n",
            "g) delta V total = 4.265722043797261 km/s\n"
          ],
          "name": "stdout"
        }
      ]
    },
    {
      "cell_type": "code",
      "metadata": {
        "id": "gTYY3CxyoUeL",
        "colab_type": "code",
        "outputId": "33f6a549-f1d3-42f6-df95-eb6b206f61ef",
        "colab": {
          "base_uri": "https://localhost:8080/",
          "height": 437
        }
      },
      "source": [
        "#Problem 3 \n",
        "\n",
        "rp1 = 10000\n",
        "ra1 = 15000\n",
        "rp2 = 8000\n",
        "ra2 = 35000\n",
        "n = m.radians(30)\n",
        "\n",
        "#a)\n",
        "e1 = (ra1 - rp1)/(ra1 + rp1)\n",
        "e2 = (ra2 - rp2)/(ra2 + rp2)\n",
        "h1 = m.sqrt(rp1*(1 + e1)*mu)\n",
        "h2 = m.sqrt(rp2*(1 + e2)*mu)\n",
        "print('a) e1 =',e1)\n",
        "print('   e2 =',e2)\n",
        "print('   h1 =',h1,'km^2/s')\n",
        "print('   h2 =',h2,'km^2/s')\n",
        "\n",
        "#b)\n",
        "a = e1*h2**2 - e2*h1**2*m.cos(n)\n",
        "b = -e2*h1**2*m.sin(n)\n",
        "c = h1**2 - h2**2\n",
        "phi = m.atan(b/a)\n",
        "print('\\nb) a =', a, 'km^4/s^2')\n",
        "print('   b =', b, 'km^4/s^2')\n",
        "print('   c =', c, 'km^4/s^2')\n",
        "print('   phi =', m.degrees(phi),'degrees')\n",
        "\n",
        "#c) \n",
        "nu1 = phi + m.acos(c/a*m.cos(phi))\n",
        "nu2 = nu1 - n\n",
        "print('\\nc) nu1 =',m.degrees(nu1),'degrees')\n",
        "print('   nu2 =', m.degrees(nu2),'degrees')\n",
        "\n",
        "#d) \n",
        "r1 = h1**2/mu*(1/(1 + e1*m.cos(nu1)))\n",
        "v_perp1 = h1/r1\n",
        "v_r1 = mu/h1*e1*m.sin(nu1)\n",
        "gamma1 = m.atan(v_r1/v_perp1)\n",
        "print('\\nd) radius at nu1 =',r1,'km')\n",
        "print('   v_perp1 =', v_perp1, 'km/s')\n",
        "print('   v_r1 =', v_r1, 'km/s')\n",
        "print('   gamma1 =', m.degrees(gamma1), 'degrees')\n",
        "\n",
        "#e)\n",
        "r2 = h2**2/mu*(1/(1 + e2*m.cos(nu2)))\n",
        "v_perp2 = h2/r2\n",
        "v_r2 = mu/h2*e2*m.sin(nu2)\n",
        "gamma2 = m.atan(v_r2/v_perp2)\n",
        "print('\\ne) radius at nu2 =',r2,'km')\n",
        "print('   v_perp2 =', v_perp2, 'km/s')\n",
        "print('   v_r2 =', v_r2, 'km/s')\n",
        "print('   gamma2 =', m.degrees(gamma2), 'degrees')\n",
        "\n",
        "#f)\n",
        "#put delta v_perp and delta v_r into a vector\n",
        "v_vec = np.array([v_perp2 - v_perp1,v_r2 - v_r1])\n",
        "delta_v = np.linalg.norm(v_vec)\n",
        "print('\\nf) delta_v =',delta_v,'km/s')\n",
        "gamma3 = m.atan((v_r2 - v_r1)/(v_perp2 - v_perp1))\n",
        "print('   gamma3 =',m.degrees(gamma3), 'degrees')"
      ],
      "execution_count": 0,
      "outputs": [
        {
          "output_type": "stream",
          "text": [
            "a) e1 = 0.2\n",
            "   e2 = 0.627906976744186\n",
            "   h1 = 69160.682472052 km^2/s\n",
            "   h2 = 72049.07887989866 km^2/s\n",
            "\n",
            "b) a = -1562810772.2629452 km^4/s^2\n",
            "   b = -1501702325.5813951 km^4/s^2\n",
            "   c = -407869767.44185925 km^4/s^2\n",
            "   phi = 43.857635122512654 degrees\n",
            "\n",
            "c) nu1 = 123.01065978763451 degrees\n",
            "   nu2 = 93.01065978763452 degrees\n",
            "\n",
            "d) radius at nu1 = 13467.393934332717 km\n",
            "   v_perp1 = 5.135416904657343 km/s\n",
            "   v_r1 = 0.9666003307789777 km/s\n",
            "   gamma1 = 10.659633028045189 degrees\n",
            "\n",
            "e) radius at nu2 = 13467.393934332715 km\n",
            "   v_perp2 = 5.349890203792317 km/s\n",
            "   v_r2 = 3.469000274970947 km/s\n",
            "   gamma2 = 32.96036649058974 degrees\n",
            "\n",
            "f) delta_v = 2.5115740635573167 km/s\n",
            "   gamma3 = 85.10131950787832 degrees\n"
          ],
          "name": "stdout"
        }
      ]
    }
  ]
}