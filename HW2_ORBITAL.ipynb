{
  "nbformat": 4,
  "nbformat_minor": 0,
  "metadata": {
    "colab": {
      "name": "HW2_ORBITAL",
      "provenance": [],
      "collapsed_sections": [],
      "include_colab_link": true
    },
    "kernelspec": {
      "name": "python3",
      "display_name": "Python 3"
    }
  },
  "cells": [
    {
      "cell_type": "markdown",
      "metadata": {
        "id": "view-in-github",
        "colab_type": "text"
      },
      "source": [
        "<a href=\"https://colab.research.google.com/github/ChristianTrummer99/orbital-mechanics/blob/master/HW2_ORBITAL.ipynb\" target=\"_parent\"><img src=\"https://colab.research.google.com/assets/colab-badge.svg\" alt=\"Open In Colab\"/></a>"
      ]
    },
    {
      "cell_type": "code",
      "metadata": {
        "id": "sZ_wuvWpY7wB",
        "colab_type": "code",
        "colab": {}
      },
      "source": [
        "import numpy.matlib\n",
        "import numpy as np \n",
        "import math\n",
        "\n"
      ],
      "execution_count": 0,
      "outputs": []
    },
    {
      "cell_type": "code",
      "metadata": {
        "id": "8oZb323CZBrL",
        "colab_type": "code",
        "outputId": "49be12ca-fca5-48f0-d4d7-97f720cf1897",
        "colab": {
          "base_uri": "https://localhost:8080/",
          "height": 134
        }
      },
      "source": [
        "#Problem 2\n",
        "\n",
        "r_p = 7000\n",
        "r_a = 70000\n",
        "mu = 398600\n",
        "R = 6378\n",
        "\n",
        "#(a) eccentricity\n",
        "\n",
        "#I derived e on the looseleaf\n",
        "\n",
        "e = (r_a - r_p)/(r_a + r_p)\n",
        "print('e =',e)\n",
        "\n",
        "#(b) Specific Energy\n",
        "\n",
        "E = -mu/77000\n",
        "\n",
        "print(\"Specific Energy =\",E)\n",
        "\n",
        "\n",
        "#(c) true anomaly at which the altitude is 1000 km\n",
        "a = 77000/2\n",
        "p = a * (1 - e**2)\n",
        "r = 1000 + R\n",
        "\n",
        "nu = math.acos((p-r)/(e*r))\n",
        "print('nu =', math.degrees(nu))\n",
        "\n",
        "#(d) flight path angle γ at the point found in part (d)\n",
        "\n",
        "gamma = math.degrees(math.atan((e*math.sin(nu))/(1 + e * math.cos(nu))))\n",
        "print('flight path angle =', gamma)\n",
        "\n",
        "#(e) velocity vr, v⊥, and v at the point found in part (d)\n",
        "h = math.sqrt(p*mu)\n",
        "\n",
        "v_r = (mu/h) * e * math.sin(nu)\n",
        "print('v_r =',v_r)\n",
        "\n",
        "v_perp = (mu/h) * (1 + e * math.cos(nu))\n",
        "print('v_perp =', v_perp)\n",
        "\n",
        "v = math.sqrt(mu*(2/r - 1/a))\n",
        "print('v =', v)"
      ],
      "execution_count": 0,
      "outputs": [
        {
          "output_type": "stream",
          "text": [
            "e = 0.8181818181818182\n",
            "Specific Energy = -5.176623376623376\n",
            "nu = 27.606871751695568\n",
            "flight path angle = 12.396035362644971\n",
            "v_r = 2.121822245867043\n",
            "v_perp = 9.653786092725953\n",
            "v = 9.884215475553194\n"
          ],
          "name": "stdout"
        }
      ]
    },
    {
      "cell_type": "code",
      "metadata": {
        "id": "7SQs9YGV_O-U",
        "colab_type": "code",
        "outputId": "83c91d3c-1ac3-4c34-e3b2-8abac2b8c89c",
        "colab": {
          "base_uri": "https://localhost:8080/",
          "height": 134
        }
      },
      "source": [
        "#Problem 3 \n",
        "\n",
        "mu = 398600\n",
        "R = 6378\n",
        "\n",
        "#(b) part (a) can be found on the looseleaf\n",
        "\n",
        "E = [1,100,0,0,10]\n",
        "h = [1e5,1e5,7e4,8e4,8e4]\n",
        "\n",
        "for i in range(0,5):\n",
        "  coef = [2*E[i], 2*mu, - (h[i])**2]\n",
        "  r_p = numpy.roots(coef)\n",
        "  print('r_p =',r_p)\n",
        "#ignore negative roots\n",
        "  \n",
        "#(c)\n",
        "for i in range(1,3):\n",
        "  v = math.sqrt(2*(E[i] + mu/R))\n",
        "  print('v =',v)\n",
        "\n",
        "#part (d) is on the looseleaf"
      ],
      "execution_count": 0,
      "outputs": [
        {
          "output_type": "stream",
          "text": [
            "r_p = [-410772.19675409   12172.19675409]\n",
            "r_p = [-9339.56715752  5353.56715752]\n",
            "r_p = [6146.51279478]\n",
            "r_p = [8028.0983442]\n",
            "r_p = [-46710.68147004   6850.68147004]\n",
            "v = 18.02753894883872\n",
            "v = 11.179989291224619\n"
          ],
          "name": "stdout"
        }
      ]
    }
  ]
}