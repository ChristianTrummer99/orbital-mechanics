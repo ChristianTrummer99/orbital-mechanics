{
  "nbformat": 4,
  "nbformat_minor": 0,
  "metadata": {
    "colab": {
      "name": "HW4_ORBITAL",
      "provenance": [],
      "include_colab_link": true
    },
    "kernelspec": {
      "name": "python3",
      "display_name": "Python 3"
    }
  },
  "cells": [
    {
      "cell_type": "markdown",
      "metadata": {
        "id": "view-in-github",
        "colab_type": "text"
      },
      "source": [
        "<a href=\"https://colab.research.google.com/github/ChristianTrummer99/orbital-mechanics/blob/master/HW4_ORBITAL.ipynb\" target=\"_parent\"><img src=\"https://colab.research.google.com/assets/colab-badge.svg\" alt=\"Open In Colab\"/></a>"
      ]
    },
    {
      "cell_type": "code",
      "metadata": {
        "id": "8dNPuJLhWSFH",
        "colab_type": "code",
        "colab": {}
      },
      "source": [
        "import numpy.matlib \n",
        "import numpy as np\n",
        "import math as m\n",
        "import matplotlib.pyplot as plt\n"
      ],
      "execution_count": 0,
      "outputs": []
    },
    {
      "cell_type": "code",
      "metadata": {
        "id": "1eEg1IxbWnGu",
        "colab_type": "code",
        "outputId": "c31cf179-0fdb-4fa6-d356-f7afc560a46a",
        "colab": {
          "base_uri": "https://localhost:8080/",
          "height": 84
        }
      },
      "source": [
        "#problem 1\n",
        "\n",
        "se = 10 \n",
        "h = 8e4\n",
        "mu = 398600\n",
        "R_earth = 6378\n",
        "\n",
        "p = h**2/mu\n",
        "\n",
        "a = -mu/(2*se)\n",
        "\n",
        "e = m.sqrt(1 - p/a)\n",
        "\n",
        "\n",
        "# a \n",
        "nu_max = m.acos(-1/e)\n",
        "print('a) maximum true anomaly = ', m.degrees(nu_max), 'degrees')\n",
        "\n",
        "# b \n",
        "t = -40*60\n",
        "Mh = mu**2/h**3*(e**2 - 1)**(3/2)*t\n",
        "\n",
        "def F(e, Mh):\n",
        "   if Mh > np.pi:\n",
        "       F = Mh - e / 2\n",
        "   else:\n",
        "       F = Mh + e / 2\n",
        "   precision = 1e-10\n",
        "   ratio = 1\n",
        "   while abs(ratio) > precision:\n",
        "       ratio = (-F + e * np.sinh(F) - Mh) / (e * np.cosh(F) - 1)\n",
        "       F = F - ratio\n",
        "   return F\n",
        "  \n",
        "\n",
        "nu = 2*m.atan(m.sqrt((e+1)/(e-1))*m.tanh(F(e,Mh)/2))\n",
        "print('b) nu 40 minutes before perigee = ', m.degrees(nu), \"degrees\")\n",
        "\n",
        "# c\n",
        "r = a*(1 - e**2)/(1 + e*m.cos(nu))\n",
        "v = m.sqrt(mu*(2/r - 1/a))\n",
        "\n",
        "print('c) velocity 40 min before perigee = ', v, 'km/s' )\n",
        "\n",
        "# d\n",
        "v_inf = m.sqrt(-mu/a)\n",
        "print('d) excess velocity = ', v_inf, 'km/s')\n",
        "\n"
      ],
      "execution_count": 0,
      "outputs": [
        {
          "output_type": "stream",
          "text": [
            "a) maximum true anomaly =  138.08984431413194 degrees\n",
            "b) nu 40 minutes before perigee =  -98.78189491471082 degrees\n",
            "c) velocity 40 min before perigee =  7.71133153379521 km/s\n",
            "d) excess velocity =  4.47213595499958 km/s\n"
          ],
          "name": "stdout"
        }
      ]
    },
    {
      "cell_type": "code",
      "metadata": {
        "id": "Q_bkhdnCo7-Y",
        "colab_type": "code",
        "outputId": "77023ad8-f134-4395-ebaa-bc21eaae3065",
        "colab": {
          "base_uri": "https://localhost:8080/",
          "height": 134
        }
      },
      "source": [
        "#problem 2 \n",
        "#find a, e, i, Omega, little omega, and nu\n",
        "\n",
        "mu = 398600\n",
        "r = np.array([-2465, 6040, 3413])\n",
        "v = np.array([1.727, 3.893, -5.883])\n",
        "\n",
        "def classical_elements(r,v):\n",
        "\n",
        "  h = np.cross(r,v)\n",
        "  h_mag = np.linalg.norm(h)\n",
        "  \n",
        "  i = m.acos(h[2]/h_mag)\n",
        "  print('i = ',i, 'radians')\n",
        "  \n",
        "  K = np.array([0,0,1])\n",
        "  N = np.cross(K,h)\n",
        "  N_mag = np.linalg.norm(N)\n",
        "  \n",
        "  \n",
        "  Omega = m.atan(np.dot(N,np.array([0,1,0]))/np.dot(N,np.array([1,0,0])))+ 2*m.pi\n",
        "  print('Omega =', Omega,'radians')\n",
        "  \n",
        "  e = np.cross(v,h)/mu - r/np.linalg.norm(r)\n",
        "  e_mag = np.linalg.norm(e)\n",
        "  \n",
        "  print(\"e vector = \",e)\n",
        "  print('e magnitude =', e_mag)\n",
        "  \n",
        "  omega = m.atan(np.dot(h,np.cross(N,e))/(h_mag*np.dot(e,N))) + 2*m.pi\n",
        "  print('omega =', omega, 'radians')\n",
        "  \n",
        "  nu = m.atan2(np.dot(h,np.cross(e,r)),(h_mag*np.dot(e,r))) + 2*m.pi\n",
        "  print('nu = ', nu, 'radians')\n",
        "  \n",
        "  \n",
        "  a = h_mag**2/mu/(1 - e_mag**2)\n",
        "  print('a = ',a,'km')\n",
        " \n",
        "classical_elements(r,v)\n",
        "  "
      ],
      "execution_count": 0,
      "outputs": [
        {
          "output_type": "stream",
          "text": [
            "i =  1.954742681770869 radians\n",
            "Omega = 4.8869027958161135 radians\n",
            "e vector =  [ 0.01216711 -0.01305798 -0.02404741]\n",
            "e magnitude = 0.02994707151537141\n",
            "omega = 5.23593663002149 radians\n",
            "nu =  3.6652816527448646 radians\n",
            "a =  7178.000679282885 km\n"
          ],
          "name": "stdout"
        }
      ]
    },
    {
      "cell_type": "code",
      "metadata": {
        "id": "tSeZX6Q4vHFa",
        "colab_type": "code",
        "outputId": "9608f161-1b5e-4ac6-9f8f-50494314140b",
        "colab": {
          "base_uri": "https://localhost:8080/",
          "height": 50
        }
      },
      "source": [
        "#problem 3 \n",
        "i =  1.954742681770869 \n",
        "Omega = 4.8869027958161135\n",
        "e =  np.array([ 0.01216711, -0.01305798, -0.02404741])\n",
        "e_mag = 0.02994707151537141\n",
        "omega = 5.2359366300214\n",
        "nu =  3.6652816527448646 \n",
        "a =  7178.000679282885 \n",
        "\n",
        "def rv(a,e_mag,i,Omega, omega, nu):\n",
        "  r_mag = (a*(1 - e_mag**2))/(1 + e_mag*m.cos(nu))\n",
        "  h_mag = m.sqrt(mu*a*(1 - e_mag**2))\n",
        "  N = np.array([m.cos(Omega),m.sin(Omega),0])\n",
        "  h = np.array([m.sin(i)*m.sin(Omega),-m.sin(i)*m.cos(Omega),m.cos(i)])\n",
        "  Nt  = np.array([-m.sin(Omega)*m.cos(i), m.cos(Omega)*m.cos(i), m.sin(i)])\n",
        "  ur = m.cos(nu + omega)*N + m.sin(nu + omega)*Nt\n",
        "  up = -m.sin(nu + omega)*N + m.cos(nu + omega)*Nt\n",
        "  r = r_mag*ur\n",
        "  v = mu/h_mag*((1 + e_mag*m.cos(nu))*up + e_mag*m.sin(nu)*ur)\n",
        "  print('position = ',r,'km')\n",
        "  print('velocity = ',v,'km/s')\n",
        " \n",
        "  \n",
        "  \n",
        "rv(a,e_mag,i,Omega,omega,nu)"
      ],
      "execution_count": 0,
      "outputs": [
        {
          "output_type": "stream",
          "text": [
            "position =  [-2465.  6040.  3413.] km\n",
            "velocity =  [ 1.727  3.893 -5.883] km/s\n"
          ],
          "name": "stdout"
        }
      ]
    },
    {
      "cell_type": "code",
      "metadata": {
        "id": "sUx1y-vu9RyR",
        "colab_type": "code",
        "outputId": "693b247d-f0d2-4891-99f1-eec9d8e3ae21",
        "colab": {
          "base_uri": "https://localhost:8080/",
          "height": 323
        }
      },
      "source": [
        "#problem 4\n",
        "nu = np.arange(0,2*m.pi,0.01)\n",
        "h_mag = m.sqrt(mu*a*(1 - e_mag**2))\n",
        "\n",
        "r = np.zeros(len(nu))\n",
        "nusat = np.zeros(len(nu))\n",
        "\n",
        "for i in range(0,len(nu)):\n",
        "  r[i] = (h_mag**2/mu)*(1/(1 + e_mag*m.cos(nu[i])))\n",
        "\n",
        "  \n",
        "R = 6378  \n",
        "x = r*np.cos(nu)\n",
        "y = r*np.sin(nu)\n",
        "x1 = R*np.cos(nu)\n",
        "y1 = R*np.sin(nu)\n",
        "plt.plot(x,y)\n",
        "plt.plot(x1,y1)\n",
        "plt.gcf().set_size_inches(5,5)\n",
        "\n",
        "plt.show()\n",
        "\n",
        "\n"
      ],
      "execution_count": 0,
      "outputs": [
        {
          "output_type": "display_data",
          "data": {
            "image/png": "[encoded data removed]",
            "text/plain": [
              "<Figure size 360x360 with 1 Axes>"
            ]
          },
          "metadata": {
            "tags": []
          }
        }
      ]
    },
    {
      "cell_type": "code",
      "metadata": {
        "id": "zUH--coC5yHL",
        "colab_type": "code",
        "outputId": "c8a49bb0-1214-44d2-b57e-7db735791682",
        "colab": {
          "base_uri": "https://localhost:8080/",
          "height": 34
        }
      },
      "source": [
        "#Problem 5 \n",
        "\n",
        "e = 0.1\n",
        "P = 2* 3600\n",
        "mu = 398600\n",
        "a = (((P/(2*m.pi))**2)*mu)**(1/3)\n",
        "\n",
        "h = (mu*a*(1 - e**2))**0.5\n",
        "\n",
        "p = a * (1 - e ** 2)\n",
        "omega_j2 = 1.99096871e-7\n",
        "j_2 = .00108263\n",
        "i = m.degrees(m.acos(omega_j2 * P / (-3 * np.pi * j_2 * R ** 2 / p ** 2)))\n",
        "print('i = ', i, 'degrees')"
      ],
      "execution_count": 0,
      "outputs": [
        {
          "output_type": "stream",
          "text": [
            "i =  102.69969776043831 degrees\n"
          ],
          "name": "stdout"
        }
      ]
    },
    {
      "cell_type": "code",
      "metadata": {
        "id": "8uJsWwEEMPrr",
        "colab_type": "code",
        "colab": {}
      },
      "source": [
        ""
      ],
      "execution_count": 0,
      "outputs": []
    }
  ]
}