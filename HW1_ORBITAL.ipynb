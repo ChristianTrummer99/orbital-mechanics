{
  "nbformat": 4,
  "nbformat_minor": 0,
  "metadata": {
    "colab": {
      "name": "HW1_ORBITAL ",
      "provenance": []
    },
    "kernelspec": {
      "name": "python3",
      "display_name": "Python 3"
    }
  },
  "cells": [
    {
      "cell_type": "code",
      "metadata": {
        "id": "mu3Lvp2xiWUr",
        "colab_type": "code",
        "colab": {}
      },
      "source": [
        "import numpy.matlib \n",
        "import numpy as np \n",
        "import math \n"
      ],
      "execution_count": 0,
      "outputs": []
    },
    {
      "cell_type": "code",
      "metadata": {
        "id": "WKleP8xdz7vL",
        "colab_type": "code",
        "outputId": "15fbb2cf-d109-481f-896f-953bd122faa1",
        "colab": {
          "base_uri": "https://localhost:8080/",
          "height": 67
        }
      },
      "source": [
        "#Problem 3\n",
        "#Frame\n",
        "\n",
        "r0 = np.array([100,200,300])\n",
        "v0 = np.array([-50,30,-10])\n",
        "a0 = ([ -15, 40 ,25])\n",
        "\n",
        "angV = np.array([1, -.4, 0.6])\n",
        "angA = np.array([-1, .3, -0.4])\n",
        "\n",
        "#P\n",
        "\n",
        "r = np.array([300,-100, 150])\n",
        "v = np.array([70,25,-20])\n",
        "a = np.array([7.5,8.5,6])\n",
        "\n",
        "recef = r - r0\n",
        "print(recef)\n",
        "\n",
        "vecef = v - (v0 + np.cross(angV, recef))\n",
        "print(vecef)\n",
        "\n",
        "aecef = a - (a0 + np.cross(angA, recef) + np.cross(angV, np.cross(angV, recef))\\\n",
        "             + np.cross(2*angV,vecef))\n",
        "\n",
        "print(aecef)\n"
      ],
      "execution_count": 0,
      "outputs": [
        {
          "output_type": "stream",
          "text": [
            "[ 200 -300 -150]\n",
            "[-120. -275.  210.]\n",
            "[ 99.5 398.5  21. ]\n"
          ],
          "name": "stdout"
        }
      ]
    },
    {
      "cell_type": "code",
      "metadata": {
        "id": "J9VLRfE78kio",
        "colab_type": "code",
        "outputId": "5a5a1a25-86d8-4ab8-c872-fb10815b2c5c",
        "colab": {
          "base_uri": "https://localhost:8080/",
          "height": 67
        }
      },
      "source": [
        "#Problem 4\n",
        "\n",
        "phi = 35.7\n",
        "lam = 139.7\n",
        "\n",
        "#traveling NE at 7.01 km/s relative to ECEF frame\n",
        "\n",
        "r_earth = 6378\n",
        "w_earth = math.pi / (24*3600)\n",
        "\n",
        "xdot = 4.96\n",
        "ydot = 4.96\n",
        "\n",
        "#altitude \n",
        "z = 1200 \n",
        "\n",
        "change_phi = ydot/(r_earth + z)\n",
        "print(change_lat)\n",
        "\n",
        "change_lambda = xdot/((r_earth + z)*math.cos(math.radians(phi)))\n",
        "print(change_long)\n",
        "\n",
        "veci = np.array([xdot + w_earth*(r_earth+z)*math.cos(math.radians(phi)), ydot, 0])\n",
        "veci\n",
        "\n",
        "\n",
        "\n"
      ],
      "execution_count": 0,
      "outputs": [
        {
          "output_type": "stream",
          "text": [
            "0.0006545262602269728\n",
            "0.0008059839148962016\n"
          ],
          "name": "stdout"
        },
        {
          "output_type": "execute_result",
          "data": {
            "text/plain": [
              "array([5.18376463, 4.96      , 0.        ])"
            ]
          },
          "metadata": {
            "tags": []
          },
          "execution_count": 49
        }
      ]
    }
  ]
}