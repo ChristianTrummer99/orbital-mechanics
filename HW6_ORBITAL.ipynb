{
  "nbformat": 4,
  "nbformat_minor": 0,
  "metadata": {
    "colab": {
      "name": "HW6_ORBITAL",
      "provenance": [],
      "include_colab_link": true
    },
    "kernelspec": {
      "name": "python3",
      "display_name": "Python 3"
    }
  },
  "cells": [
    {
      "cell_type": "markdown",
      "metadata": {
        "id": "view-in-github",
        "colab_type": "text"
      },
      "source": [
        "<a href=\"https://colab.research.google.com/github/ChristianTrummer99/orbital-mechanics/blob/master/HW6_ORBITAL.ipynb\" target=\"_parent\"><img src=\"https://colab.research.google.com/assets/colab-badge.svg\" alt=\"Open In Colab\"/></a>"
      ]
    },
    {
      "cell_type": "code",
      "metadata": {
        "id": "t-CSrgdrCmAi",
        "colab_type": "code",
        "colab": {}
      },
      "source": [
        "import numpy as np, math as m "
      ],
      "execution_count": 0,
      "outputs": []
    },
    {
      "cell_type": "code",
      "metadata": {
        "id": "boZ_JOxvD5cW",
        "colab_type": "code",
        "outputId": "d61eaf93-91ad-47c7-a26b-085e70c7f3f5",
        "colab": {
          "base_uri": "https://localhost:8080/",
          "height": 51
        }
      },
      "source": [
        "#Problem 1 \n",
        "\n",
        "#a)\n",
        "e = 0.5\n",
        "r1 = 400 + 6378\n",
        "i1 = m.radians(60)\n",
        "i2 = m.radians(40)\n",
        "deltai = m.radians(20)\n",
        "mu = 398600\n",
        "omega = m.radians(30)\n",
        "\n",
        "v_cir = m.sqrt(mu/r1)\n",
        "a = r1/(1 - e)\n",
        "v_ell = m.sqrt(mu*(2/r1 - 1/a))\n",
        "dV = m.sqrt(v_cir**2 + v_ell**2 - 2*v_cir*v_ell*m.cos(deltai))\n",
        "print('a) minimum dv =',dV,'km/s')\n",
        "\n",
        "#b)\n",
        "\n",
        "i = m.radians(10)\n",
        "e = 0.5\n",
        "a = 15000\n",
        "\n",
        "h = m.sqrt(mu*a*(1 - e**2))\n",
        "rp = (h**2/mu)/(1 + e*m.cos(m.pi - omega))\n",
        "vp = h/rp\n",
        "\n",
        "# v = m.sqrt(2/rp - 1/a)\n",
        "\n",
        "deltaV = 2*vp*m.sin(i/2)\n",
        "print('b) minimum deltaV =', deltaV, 'km/s')"
      ],
      "execution_count": 0,
      "outputs": [
        {
          "output_type": "stream",
          "text": [
            "a) minimum dv = 3.414328978708582 km/s\n",
            "b) minimum deltaV = 0.588290343487044 km/s\n"
          ],
          "name": "stdout"
        }
      ]
    },
    {
      "cell_type": "code",
      "metadata": {
        "id": "77Bw3IlXTXUz",
        "colab_type": "code",
        "outputId": "27193e61-cef8-4b32-cc61-822a8af71dc0",
        "colab": {
          "base_uri": "https://localhost:8080/",
          "height": 102
        }
      },
      "source": [
        "mu = 132.71e9\n",
        "Re = 149.6e6\n",
        "Rm = 227.9e6\n",
        "Pe = 365.26\n",
        "Pm = 687.99\n",
        "g = 9.81 \n",
        "\n",
        "#a)\n",
        "phi = m.radians(350)\n",
        "nm = m.pi*2/Pm\n",
        "ne = m.pi*2/Pe\n",
        "\n",
        "# model time vs angle\n",
        "\n",
        "# theta_m = m.radians(tm)*nm + m.radians(350)\n",
        "# theta_e = m.radians(te)*ne\n",
        "\n",
        "#set tm = te = t, and theta_m = theta_e + 44 degrees\n",
        "#find intersection of the two lines\n",
        "t = (phi - m.radians(44)) / (ne - nm)\n",
        "print('a)',t,'days')\n",
        "\n",
        "#b) \n",
        "dep_dv = m.sqrt(mu)*(m.sqrt(1/Rm) + (Rm - Re)*m.sqrt(2/(Re*Rm*(Re + Rm))) - m.sqrt(1/Re))\n",
        "ret_dv = m.sqrt(mu)*(m.sqrt(1/Re) + (Re - Rm)*m.sqrt(2/(Re*Rm*(Re + Rm))) - m.sqrt(1/Rm))\n",
        "\n",
        "dv_total = abs(ret_dv) + dep_dv\n",
        "print('b) departure delta V =',dep_dv, 'km/s')\n",
        "print('   return delta V =',ret_dv, 'km/s')\n",
        "print('   total delta V =',dv_total, 'km/s')\n",
        "\n",
        "#c)\n",
        "mf = 1500\n",
        "Isp = 2000\n",
        "\n",
        "mp = mf*(m.exp(dv_total*1000/(g*Isp)) - 1)\n",
        "print('c) propellant mass',mp,'kg')"
      ],
      "execution_count": 0,
      "outputs": [
        {
          "output_type": "stream",
          "text": [
            "a) 661.8564846466085 days\n",
            "b) departure delta V = 5.5913280484101024 km/s\n",
            "   return delta V = -5.5913280484101024 km/s\n",
            "   total delta V = 11.182656096820205 km/s\n",
            "c) propellant mass 1152.300011818403 kg\n"
          ],
          "name": "stdout"
        }
      ]
    }
  ]
}